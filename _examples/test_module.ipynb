{
 "cells": [
  {
   "cell_type": "code",
   "execution_count": 1,
   "id": "based-sheriff",
   "metadata": {},
   "outputs": [],
   "source": [
    "# Import the module\n",
    "from md2stl import loadFile, build3D, save3D"
   ]
  },
  {
   "cell_type": "code",
   "execution_count": 2,
   "id": "meaning-george",
   "metadata": {},
   "outputs": [],
   "source": [
    "# Import additional modules, for 3d visualisation\n",
    "import matplotlib.pyplot as plt\n",
    "from mpl_toolkits import mplot3d"
   ]
  },
  {
   "cell_type": "markdown",
   "id": "color-kinase",
   "metadata": {},
   "source": [
    "# Load the file"
   ]
  },
  {
   "cell_type": "code",
   "execution_count": 3,
   "id": "separated-adelaide",
   "metadata": {},
   "outputs": [
    {
     "name": "stderr",
     "output_type": "stream",
     "text": [
      "/Users/vwalter/.pyenv/versions/3.8.0/lib/python3.8/site-packages/MDAnalysis/topology/base.py:203: DeprecationWarning: `np.int` is a deprecated alias for the builtin `int`. To silence this warning, use `int` by itself. Doing this will not modify any behavior and is safe. When replacing `np.int`, you may wish to use e.g. `np.int64` or `np.int32` to specify the precision. If you wish to review your current use, check the release note link for additional information.\n",
      "Deprecated in NumPy 1.20; for more details and guidance: https://numpy.org/devdocs/release/1.20.0-notes.html#deprecations\n",
      "  residx = np.zeros_like(criteria[0], dtype=np.int)\n",
      "/Users/vwalter/.pyenv/versions/3.8.0/lib/python3.8/site-packages/MDAnalysis/core/selection.py:675: DeprecationWarning: `np.bool` is a deprecated alias for the builtin `bool`. To silence this warning, use `bool` by itself. Doing this will not modify any behavior and is safe. If you specifically wanted the numpy scalar type, use `np.bool_` here.\n",
      "Deprecated in NumPy 1.20; for more details and guidance: https://numpy.org/devdocs/release/1.20.0-notes.html#deprecations\n",
      "  mask = np.zeros(len(vals), dtype=np.bool)\n"
     ]
    }
   ],
   "source": [
    "# Load the data.\n",
    "system_class = loadFile('structure.gro', # Path to the file to open\n",
    "                        resids=[1], # List some residue IDs to select only#"
   ]
  },
  {
   "cell_type": "code",
   "execution_count": 4,
   "id": "registered-currency",
   "metadata": {},
   "outputs": [
    {
     "name": "stdout",
     "output_type": "stream",
     "text": [
      "List of molecule IDs: [1]\n"
     ]
    }
   ],
   "source": [
    "# Visualise some properties\n",
    "print('List of molecule IDs:', system_class.getIDs())"
   ]
  },
  {
   "cell_type": "markdown",
   "id": "nasty-samba",
   "metadata": {},
   "source": [
    "# Convert the system into a Mesh"
   ]
  },
  {
   "cell_type": "code",
   "execution_count": 6,
   "id": "textile-doctor",
   "metadata": {},
   "outputs": [
    {
     "name": "stderr",
     "output_type": "stream",
     "text": [
      "100%|██████████| 1/1 [00:00<00:00,  2.62it/s]\n"
     ]
    }
   ],
   "source": [
    "# Build the model\n",
    "all_atoms = build3D(system_class, # Class obtained with the loadFile() function\n",
    "                    resolution=5 # Resolution of the spheres used for the atoms\n",
    "                   )"
   ]
  },
  {
   "cell_type": "code",
   "execution_count": null,
   "id": "royal-black",
   "metadata": {},
   "outputs": [],
   "source": [
    "# Visualise the object in 3D\n",
    "figure = plt.figure()\n",
    "axes = mplot3d.Axes3D(figure)\n",
    "\n",
    "# Render the molecule\n",
    "axes.add_collection3d(mplot3d.art3d.Poly3DCollection(all_atoms.vectors))\n",
    "\n",
    "# Auto scale to the mesh size\n",
    "scale = all_atoms.points.flatten()\n",
    "axes.auto_scale_xyz(scale, scale, scale)\n",
    "\n",
    "# Show the plot to the screen\n",
    "plt.show()"
   ]
  },
  {
   "cell_type": "markdown",
   "id": "vertical-gather",
   "metadata": {},
   "source": [
    "# Save the mesh in a file"
   ]
  },
  {
   "cell_type": "code",
   "execution_count": null,
   "id": "fifth-sharing",
   "metadata": {},
   "outputs": [],
   "source": [
    "# Save the model in file\n",
    "save3D('test.stl', # Path to the file to create\n",
    "       all_atoms # Mesh to save in the file\n",
    "      )"
   ]
  },
  {
   "cell_type": "code",
   "execution_count": null,
   "id": "metallic-chamber",
   "metadata": {},
   "outputs": [],
   "source": []
  }
 ],
 "metadata": {
  "kernelspec": {
   "display_name": "Python 3",
   "language": "python",
   "name": "python3"
  },
  "language_info": {
   "codemirror_mode": {
    "name": "ipython",
    "version": 3
   },
   "file_extension": ".py",
   "mimetype": "text/x-python",
   "name": "python",
   "nbconvert_exporter": "python",
   "pygments_lexer": "ipython3",
   "version": "3.8.0"
  }
 },
 "nbformat": 4,
 "nbformat_minor": 5
}
